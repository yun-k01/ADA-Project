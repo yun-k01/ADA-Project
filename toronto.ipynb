{
  "cells": [
    {
      "attachments": {},
      "cell_type": "markdown",
      "metadata": {
        "id": "YuXRz7zIQa2z"
      },
      "source": [
        "# ADA RQ3"
      ]
    },
    {
      "cell_type": "code",
      "execution_count": 2,
      "metadata": {
        "colab": {
          "base_uri": "https://localhost:8080/"
        },
        "id": "WIk7HZ9dPTOz",
        "outputId": "3716360c-3cd2-468d-f6f7-ab0014803c90"
      },
      "outputs": [
        {
          "ename": "ModuleNotFoundError",
          "evalue": "No module named 'google.colab'",
          "output_type": "error",
          "traceback": [
            "\u001b[1;31m---------------------------------------------------------------------------\u001b[0m",
            "\u001b[1;31mModuleNotFoundError\u001b[0m                       Traceback (most recent call last)",
            "\u001b[1;32m<ipython-input-2-5f16534c6c38>\u001b[0m in \u001b[0;36m<module>\u001b[1;34m\u001b[0m\n\u001b[1;32m----> 1\u001b[1;33m \u001b[1;32mfrom\u001b[0m \u001b[0mgoogle\u001b[0m\u001b[1;33m.\u001b[0m\u001b[0mcolab\u001b[0m \u001b[1;32mimport\u001b[0m \u001b[0mdrive\u001b[0m\u001b[1;33m\u001b[0m\u001b[1;33m\u001b[0m\u001b[0m\n\u001b[0m\u001b[0;32m      2\u001b[0m \u001b[0mdrive\u001b[0m\u001b[1;33m.\u001b[0m\u001b[0mmount\u001b[0m\u001b[1;33m(\u001b[0m\u001b[1;34m'/content/drive'\u001b[0m\u001b[1;33m)\u001b[0m\u001b[1;33m\u001b[0m\u001b[1;33m\u001b[0m\u001b[0m\n\u001b[0;32m      3\u001b[0m \u001b[1;31m#Change directoty to MyDrive\u001b[0m\u001b[1;33m\u001b[0m\u001b[1;33m\u001b[0m\u001b[0m\n\u001b[0;32m      4\u001b[0m \u001b[1;32mimport\u001b[0m \u001b[0mos\u001b[0m\u001b[1;33m\u001b[0m\u001b[1;33m\u001b[0m\u001b[0m\n\u001b[0;32m      5\u001b[0m \u001b[0mos\u001b[0m\u001b[1;33m.\u001b[0m\u001b[0mchdir\u001b[0m\u001b[1;33m(\u001b[0m\u001b[1;34m\"/content/drive/MyDrive\"\u001b[0m\u001b[1;33m)\u001b[0m\u001b[1;33m\u001b[0m\u001b[1;33m\u001b[0m\u001b[0m\n",
            "\u001b[1;31mModuleNotFoundError\u001b[0m: No module named 'google.colab'"
          ]
        }
      ],
      "source": [
        "from google.colab import drive\n",
        "drive.mount('/content/drive')\n",
        "#Change directoty to MyDrive\n",
        "import os\n",
        "os.chdir(\"/content/drive/MyDrive\")\n",
        "#! unzip listings.csv.zip\n",
        "#! unzip reviews.csv.zip"
      ]
    },
    {
      "attachments": {},
      "cell_type": "markdown",
      "metadata": {},
      "source": [
        "## Import libraries"
      ]
    },
    {
      "cell_type": "code",
      "execution_count": 1,
      "metadata": {
        "id": "-XZ5D7rwQhD0"
      },
      "outputs": [
        {
          "name": "stdout",
          "output_type": "stream",
          "text": [
            "Requirement already satisfied: textblob in c:\\users\\yashn\\anaconda3\\lib\\site-packages (0.17.1)\n",
            "Requirement already satisfied: nltk>=3.1 in c:\\users\\yashn\\anaconda3\\lib\\site-packages (from textblob) (3.7)\n",
            "Requirement already satisfied: regex>=2021.8.3 in c:\\users\\yashn\\anaconda3\\lib\\site-packages (from nltk>=3.1->textblob) (2022.7.9)\n",
            "Requirement already satisfied: joblib in c:\\users\\yashn\\anaconda3\\lib\\site-packages (from nltk>=3.1->textblob) (1.1.0)\n",
            "Requirement already satisfied: click in c:\\users\\yashn\\anaconda3\\lib\\site-packages (from nltk>=3.1->textblob) (8.0.4)\n",
            "Requirement already satisfied: tqdm in c:\\users\\yashn\\anaconda3\\lib\\site-packages (from nltk>=3.1->textblob) (4.64.1)\n",
            "Requirement already satisfied: colorama in c:\\users\\yashn\\anaconda3\\lib\\site-packages (from click->nltk>=3.1->textblob) (0.4.6)\n",
            "Requirement already satisfied: spacy in c:\\users\\yashn\\anaconda3\\lib\\site-packages (3.5.1)\n",
            "Requirement already satisfied: cymem<2.1.0,>=2.0.2 in c:\\users\\yashn\\anaconda3\\lib\\site-packages (from spacy) (2.0.7)\n",
            "Requirement already satisfied: numpy>=1.15.0 in c:\\users\\yashn\\anaconda3\\lib\\site-packages (from spacy) (1.21.5)\n",
            "Requirement already satisfied: smart-open<7.0.0,>=5.2.1 in c:\\users\\yashn\\anaconda3\\lib\\site-packages (from spacy) (5.2.1)\n",
            "Requirement already satisfied: tqdm<5.0.0,>=4.38.0 in c:\\users\\yashn\\anaconda3\\lib\\site-packages (from spacy) (4.64.1)\n",
            "Requirement already satisfied: srsly<3.0.0,>=2.4.3 in c:\\users\\yashn\\anaconda3\\lib\\site-packages (from spacy) (2.4.6)\n",
            "Requirement already satisfied: thinc<8.2.0,>=8.1.8 in c:\\users\\yashn\\anaconda3\\lib\\site-packages (from spacy) (8.1.9)\n",
            "Requirement already satisfied: requests<3.0.0,>=2.13.0 in c:\\users\\yashn\\anaconda3\\lib\\site-packages (from spacy) (2.28.1)\n",
            "Requirement already satisfied: jinja2 in c:\\users\\yashn\\anaconda3\\lib\\site-packages (from spacy) (2.11.3)\n",
            "Requirement already satisfied: setuptools in c:\\users\\yashn\\anaconda3\\lib\\site-packages (from spacy) (63.4.1)\n",
            "Requirement already satisfied: wasabi<1.2.0,>=0.9.1 in c:\\users\\yashn\\anaconda3\\lib\\site-packages (from spacy) (1.1.1)\n",
            "Requirement already satisfied: murmurhash<1.1.0,>=0.28.0 in c:\\users\\yashn\\anaconda3\\lib\\site-packages (from spacy) (1.0.9)\n",
            "Requirement already satisfied: pathy>=0.10.0 in c:\\users\\yashn\\anaconda3\\lib\\site-packages (from spacy) (0.10.1)\n",
            "Requirement already satisfied: pydantic!=1.8,!=1.8.1,<1.11.0,>=1.7.4 in c:\\users\\yashn\\anaconda3\\lib\\site-packages (from spacy) (1.10.7)\n",
            "Requirement already satisfied: typer<0.8.0,>=0.3.0 in c:\\users\\yashn\\anaconda3\\lib\\site-packages (from spacy) (0.7.0)\n",
            "Requirement already satisfied: langcodes<4.0.0,>=3.2.0 in c:\\users\\yashn\\anaconda3\\lib\\site-packages (from spacy) (3.3.0)\n",
            "Requirement already satisfied: spacy-legacy<3.1.0,>=3.0.11 in c:\\users\\yashn\\anaconda3\\lib\\site-packages (from spacy) (3.0.12)\n",
            "Requirement already satisfied: packaging>=20.0 in c:\\users\\yashn\\anaconda3\\lib\\site-packages (from spacy) (21.3)\n",
            "Requirement already satisfied: spacy-loggers<2.0.0,>=1.0.0 in c:\\users\\yashn\\anaconda3\\lib\\site-packages (from spacy) (1.0.4)\n",
            "Requirement already satisfied: preshed<3.1.0,>=3.0.2 in c:\\users\\yashn\\anaconda3\\lib\\site-packages (from spacy) (3.0.8)\n",
            "Requirement already satisfied: catalogue<2.1.0,>=2.0.6 in c:\\users\\yashn\\anaconda3\\lib\\site-packages (from spacy) (2.0.8)\n",
            "Requirement already satisfied: pyparsing!=3.0.5,>=2.0.2 in c:\\users\\yashn\\anaconda3\\lib\\site-packages (from packaging>=20.0->spacy) (3.0.9)\n",
            "Requirement already satisfied: typing-extensions>=4.2.0 in c:\\users\\yashn\\anaconda3\\lib\\site-packages (from pydantic!=1.8,!=1.8.1,<1.11.0,>=1.7.4->spacy) (4.3.0)\n",
            "Requirement already satisfied: urllib3<1.27,>=1.21.1 in c:\\users\\yashn\\anaconda3\\lib\\site-packages (from requests<3.0.0,>=2.13.0->spacy) (1.26.11)\n",
            "Requirement already satisfied: charset-normalizer<3,>=2 in c:\\users\\yashn\\anaconda3\\lib\\site-packages (from requests<3.0.0,>=2.13.0->spacy) (2.0.4)\n",
            "Requirement already satisfied: certifi>=2017.4.17 in c:\\users\\yashn\\anaconda3\\lib\\site-packages (from requests<3.0.0,>=2.13.0->spacy) (2022.9.14)\n",
            "Requirement already satisfied: idna<4,>=2.5 in c:\\users\\yashn\\anaconda3\\lib\\site-packages (from requests<3.0.0,>=2.13.0->spacy) (3.3)\n",
            "Requirement already satisfied: confection<1.0.0,>=0.0.1 in c:\\users\\yashn\\anaconda3\\lib\\site-packages (from thinc<8.2.0,>=8.1.8->spacy) (0.0.4)\n",
            "Requirement already satisfied: blis<0.8.0,>=0.7.8 in c:\\users\\yashn\\anaconda3\\lib\\site-packages (from thinc<8.2.0,>=8.1.8->spacy) (0.7.9)\n",
            "Requirement already satisfied: colorama in c:\\users\\yashn\\anaconda3\\lib\\site-packages (from tqdm<5.0.0,>=4.38.0->spacy) (0.4.6)\n",
            "Requirement already satisfied: click<9.0.0,>=7.1.1 in c:\\users\\yashn\\anaconda3\\lib\\site-packages (from typer<0.8.0,>=0.3.0->spacy) (8.0.4)\n",
            "Requirement already satisfied: MarkupSafe>=0.23 in c:\\users\\yashn\\anaconda3\\lib\\site-packages (from jinja2->spacy) (2.0.1)\n",
            "Requirement already satisfied: swifter in c:\\users\\yashn\\anaconda3\\lib\\site-packages (1.3.4)\n",
            "Requirement already satisfied: dask[dataframe]>=2.10.0 in c:\\users\\yashn\\anaconda3\\lib\\site-packages (from swifter) (2022.7.0)\n",
            "Requirement already satisfied: tqdm>=4.33.0 in c:\\users\\yashn\\anaconda3\\lib\\site-packages (from swifter) (4.64.1)\n",
            "Requirement already satisfied: parso>0.4.0 in c:\\users\\yashn\\anaconda3\\lib\\site-packages (from swifter) (0.8.3)\n",
            "Requirement already satisfied: cloudpickle>=0.2.2 in c:\\users\\yashn\\anaconda3\\lib\\site-packages (from swifter) (2.0.0)\n",
            "Requirement already satisfied: ipywidgets>=7.0.0 in c:\\users\\yashn\\anaconda3\\lib\\site-packages (from swifter) (7.6.5)\n",
            "Requirement already satisfied: psutil>=5.6.6 in c:\\users\\yashn\\anaconda3\\lib\\site-packages (from swifter) (5.9.0)\n",
            "Requirement already satisfied: pandas>=1.0.0 in c:\\users\\yashn\\anaconda3\\lib\\site-packages (from swifter) (1.4.4)\n",
            "Requirement already satisfied: bleach>=3.1.1 in c:\\users\\yashn\\anaconda3\\lib\\site-packages (from swifter) (4.1.0)\n",
            "Requirement already satisfied: six>=1.9.0 in c:\\users\\yashn\\anaconda3\\lib\\site-packages (from bleach>=3.1.1->swifter) (1.16.0)\n",
            "Requirement already satisfied: packaging in c:\\users\\yashn\\anaconda3\\lib\\site-packages (from bleach>=3.1.1->swifter) (21.3)\n",
            "Requirement already satisfied: webencodings in c:\\users\\yashn\\anaconda3\\lib\\site-packages (from bleach>=3.1.1->swifter) (0.5.1)\n",
            "Requirement already satisfied: fsspec>=0.6.0 in c:\\users\\yashn\\anaconda3\\lib\\site-packages (from dask[dataframe]>=2.10.0->swifter) (2022.7.1)\n",
            "Requirement already satisfied: toolz>=0.8.2 in c:\\users\\yashn\\anaconda3\\lib\\site-packages (from dask[dataframe]>=2.10.0->swifter) (0.11.2)\n",
            "Requirement already satisfied: partd>=0.3.10 in c:\\users\\yashn\\anaconda3\\lib\\site-packages (from dask[dataframe]>=2.10.0->swifter) (1.2.0)\n",
            "Requirement already satisfied: pyyaml>=5.3.1 in c:\\users\\yashn\\anaconda3\\lib\\site-packages (from dask[dataframe]>=2.10.0->swifter) (6.0)\n",
            "Requirement already satisfied: numpy>=1.18 in c:\\users\\yashn\\anaconda3\\lib\\site-packages (from dask[dataframe]>=2.10.0->swifter) (1.21.5)\n",
            "Requirement already satisfied: nbformat>=4.2.0 in c:\\users\\yashn\\anaconda3\\lib\\site-packages (from ipywidgets>=7.0.0->swifter) (5.5.0)\n",
            "Requirement already satisfied: widgetsnbextension~=3.5.0 in c:\\users\\yashn\\anaconda3\\lib\\site-packages (from ipywidgets>=7.0.0->swifter) (3.5.2)\n",
            "Requirement already satisfied: traitlets>=4.3.1 in c:\\users\\yashn\\anaconda3\\lib\\site-packages (from ipywidgets>=7.0.0->swifter) (5.1.1)\n",
            "Requirement already satisfied: ipython>=4.0.0 in c:\\users\\yashn\\anaconda3\\lib\\site-packages (from ipywidgets>=7.0.0->swifter) (7.31.1)\n",
            "Requirement already satisfied: jupyterlab-widgets>=1.0.0 in c:\\users\\yashn\\anaconda3\\lib\\site-packages (from ipywidgets>=7.0.0->swifter) (1.0.0)\n",
            "Requirement already satisfied: ipykernel>=4.5.1 in c:\\users\\yashn\\anaconda3\\lib\\site-packages (from ipywidgets>=7.0.0->swifter) (6.15.2)\n",
            "Requirement already satisfied: ipython-genutils~=0.2.0 in c:\\users\\yashn\\anaconda3\\lib\\site-packages (from ipywidgets>=7.0.0->swifter) (0.2.0)\n",
            "Requirement already satisfied: pytz>=2020.1 in c:\\users\\yashn\\anaconda3\\lib\\site-packages (from pandas>=1.0.0->swifter) (2022.1)\n",
            "Requirement already satisfied: python-dateutil>=2.8.1 in c:\\users\\yashn\\anaconda3\\lib\\site-packages (from pandas>=1.0.0->swifter) (2.8.2)\n",
            "Requirement already satisfied: colorama in c:\\users\\yashn\\anaconda3\\lib\\site-packages (from tqdm>=4.33.0->swifter) (0.4.6)\n",
            "Requirement already satisfied: nest-asyncio in c:\\users\\yashn\\anaconda3\\lib\\site-packages (from ipykernel>=4.5.1->ipywidgets>=7.0.0->swifter) (1.5.5)\n",
            "Requirement already satisfied: matplotlib-inline>=0.1 in c:\\users\\yashn\\anaconda3\\lib\\site-packages (from ipykernel>=4.5.1->ipywidgets>=7.0.0->swifter) (0.1.6)\n",
            "Requirement already satisfied: tornado>=6.1 in c:\\users\\yashn\\anaconda3\\lib\\site-packages (from ipykernel>=4.5.1->ipywidgets>=7.0.0->swifter) (6.1)\n",
            "Requirement already satisfied: pyzmq>=17 in c:\\users\\yashn\\anaconda3\\lib\\site-packages (from ipykernel>=4.5.1->ipywidgets>=7.0.0->swifter) (23.2.0)\n",
            "Requirement already satisfied: jupyter-client>=6.1.12 in c:\\users\\yashn\\anaconda3\\lib\\site-packages (from ipykernel>=4.5.1->ipywidgets>=7.0.0->swifter) (7.3.4)\n",
            "Requirement already satisfied: debugpy>=1.0 in c:\\users\\yashn\\anaconda3\\lib\\site-packages (from ipykernel>=4.5.1->ipywidgets>=7.0.0->swifter) (1.5.1)\n",
            "Requirement already satisfied: prompt-toolkit!=3.0.0,!=3.0.1,<3.1.0,>=2.0.0 in c:\\users\\yashn\\anaconda3\\lib\\site-packages (from ipython>=4.0.0->ipywidgets>=7.0.0->swifter) (3.0.20)\n",
            "Requirement already satisfied: pygments in c:\\users\\yashn\\anaconda3\\lib\\site-packages (from ipython>=4.0.0->ipywidgets>=7.0.0->swifter) (2.11.2)\n",
            "Requirement already satisfied: pickleshare in c:\\users\\yashn\\anaconda3\\lib\\site-packages (from ipython>=4.0.0->ipywidgets>=7.0.0->swifter) (0.7.5)\n",
            "Requirement already satisfied: setuptools>=18.5 in c:\\users\\yashn\\anaconda3\\lib\\site-packages (from ipython>=4.0.0->ipywidgets>=7.0.0->swifter) (63.4.1)\n",
            "Requirement already satisfied: decorator in c:\\users\\yashn\\anaconda3\\lib\\site-packages (from ipython>=4.0.0->ipywidgets>=7.0.0->swifter) (5.1.1)\n",
            "Requirement already satisfied: backcall in c:\\users\\yashn\\anaconda3\\lib\\site-packages (from ipython>=4.0.0->ipywidgets>=7.0.0->swifter) (0.2.0)\n",
            "Requirement already satisfied: jedi>=0.16 in c:\\users\\yashn\\anaconda3\\lib\\site-packages (from ipython>=4.0.0->ipywidgets>=7.0.0->swifter) (0.18.1)\n",
            "Requirement already satisfied: fastjsonschema in c:\\users\\yashn\\anaconda3\\lib\\site-packages (from nbformat>=4.2.0->ipywidgets>=7.0.0->swifter) (2.16.2)\n",
            "Requirement already satisfied: jupyter_core in c:\\users\\yashn\\anaconda3\\lib\\site-packages (from nbformat>=4.2.0->ipywidgets>=7.0.0->swifter) (4.11.1)\n",
            "Requirement already satisfied: jsonschema>=2.6 in c:\\users\\yashn\\anaconda3\\lib\\site-packages (from nbformat>=4.2.0->ipywidgets>=7.0.0->swifter) (4.16.0)\n",
            "Requirement already satisfied: pyparsing!=3.0.5,>=2.0.2 in c:\\users\\yashn\\anaconda3\\lib\\site-packages (from packaging->bleach>=3.1.1->swifter) (3.0.9)\n",
            "Requirement already satisfied: locket in c:\\users\\yashn\\anaconda3\\lib\\site-packages (from partd>=0.3.10->dask[dataframe]>=2.10.0->swifter) (1.0.0)\n",
            "Requirement already satisfied: notebook>=4.4.1 in c:\\users\\yashn\\anaconda3\\lib\\site-packages (from widgetsnbextension~=3.5.0->ipywidgets>=7.0.0->swifter) (6.4.12)\n",
            "Requirement already satisfied: attrs>=17.4.0 in c:\\users\\yashn\\anaconda3\\lib\\site-packages (from jsonschema>=2.6->nbformat>=4.2.0->ipywidgets>=7.0.0->swifter) (21.4.0)\n",
            "Requirement already satisfied: pyrsistent!=0.17.0,!=0.17.1,!=0.17.2,>=0.14.0 in c:\\users\\yashn\\anaconda3\\lib\\site-packages (from jsonschema>=2.6->nbformat>=4.2.0->ipywidgets>=7.0.0->swifter) (0.18.0)\n",
            "Requirement already satisfied: entrypoints in c:\\users\\yashn\\anaconda3\\lib\\site-packages (from jupyter-client>=6.1.12->ipykernel>=4.5.1->ipywidgets>=7.0.0->swifter) (0.4)\n",
            "Requirement already satisfied: pywin32>=1.0 in c:\\users\\yashn\\anaconda3\\lib\\site-packages (from jupyter_core->nbformat>=4.2.0->ipywidgets>=7.0.0->swifter) (302)\n",
            "Requirement already satisfied: prometheus-client in c:\\users\\yashn\\anaconda3\\lib\\site-packages (from notebook>=4.4.1->widgetsnbextension~=3.5.0->ipywidgets>=7.0.0->swifter) (0.14.1)\n",
            "Requirement already satisfied: terminado>=0.8.3 in c:\\users\\yashn\\anaconda3\\lib\\site-packages (from notebook>=4.4.1->widgetsnbextension~=3.5.0->ipywidgets>=7.0.0->swifter) (0.13.1)\n",
            "Requirement already satisfied: nbconvert>=5 in c:\\users\\yashn\\anaconda3\\lib\\site-packages (from notebook>=4.4.1->widgetsnbextension~=3.5.0->ipywidgets>=7.0.0->swifter) (6.4.4)\n",
            "Requirement already satisfied: Send2Trash>=1.8.0 in c:\\users\\yashn\\anaconda3\\lib\\site-packages (from notebook>=4.4.1->widgetsnbextension~=3.5.0->ipywidgets>=7.0.0->swifter) (1.8.0)\n",
            "Requirement already satisfied: argon2-cffi in c:\\users\\yashn\\anaconda3\\lib\\site-packages (from notebook>=4.4.1->widgetsnbextension~=3.5.0->ipywidgets>=7.0.0->swifter) (21.3.0)\n",
            "Requirement already satisfied: jinja2 in c:\\users\\yashn\\anaconda3\\lib\\site-packages (from notebook>=4.4.1->widgetsnbextension~=3.5.0->ipywidgets>=7.0.0->swifter) (2.11.3)\n",
            "Requirement already satisfied: wcwidth in c:\\users\\yashn\\anaconda3\\lib\\site-packages (from prompt-toolkit!=3.0.0,!=3.0.1,<3.1.0,>=2.0.0->ipython>=4.0.0->ipywidgets>=7.0.0->swifter) (0.2.5)\n",
            "Requirement already satisfied: testpath in c:\\users\\yashn\\anaconda3\\lib\\site-packages (from nbconvert>=5->notebook>=4.4.1->widgetsnbextension~=3.5.0->ipywidgets>=7.0.0->swifter) (0.6.0)\n",
            "Requirement already satisfied: mistune<2,>=0.8.1 in c:\\users\\yashn\\anaconda3\\lib\\site-packages (from nbconvert>=5->notebook>=4.4.1->widgetsnbextension~=3.5.0->ipywidgets>=7.0.0->swifter) (0.8.4)\n",
            "Requirement already satisfied: pandocfilters>=1.4.1 in c:\\users\\yashn\\anaconda3\\lib\\site-packages (from nbconvert>=5->notebook>=4.4.1->widgetsnbextension~=3.5.0->ipywidgets>=7.0.0->swifter) (1.5.0)\n",
            "Requirement already satisfied: nbclient<0.6.0,>=0.5.0 in c:\\users\\yashn\\anaconda3\\lib\\site-packages (from nbconvert>=5->notebook>=4.4.1->widgetsnbextension~=3.5.0->ipywidgets>=7.0.0->swifter) (0.5.13)\n",
            "Requirement already satisfied: defusedxml in c:\\users\\yashn\\anaconda3\\lib\\site-packages (from nbconvert>=5->notebook>=4.4.1->widgetsnbextension~=3.5.0->ipywidgets>=7.0.0->swifter) (0.7.1)\n",
            "Requirement already satisfied: jupyterlab-pygments in c:\\users\\yashn\\anaconda3\\lib\\site-packages (from nbconvert>=5->notebook>=4.4.1->widgetsnbextension~=3.5.0->ipywidgets>=7.0.0->swifter) (0.1.2)\n",
            "Requirement already satisfied: beautifulsoup4 in c:\\users\\yashn\\anaconda3\\lib\\site-packages (from nbconvert>=5->notebook>=4.4.1->widgetsnbextension~=3.5.0->ipywidgets>=7.0.0->swifter) (4.11.1)\n",
            "Requirement already satisfied: MarkupSafe>=0.23 in c:\\users\\yashn\\anaconda3\\lib\\site-packages (from jinja2->notebook>=4.4.1->widgetsnbextension~=3.5.0->ipywidgets>=7.0.0->swifter) (2.0.1)\n",
            "Requirement already satisfied: pywinpty>=1.1.0 in c:\\users\\yashn\\anaconda3\\lib\\site-packages (from terminado>=0.8.3->notebook>=4.4.1->widgetsnbextension~=3.5.0->ipywidgets>=7.0.0->swifter) (2.0.2)\n",
            "Requirement already satisfied: argon2-cffi-bindings in c:\\users\\yashn\\anaconda3\\lib\\site-packages (from argon2-cffi->notebook>=4.4.1->widgetsnbextension~=3.5.0->ipywidgets>=7.0.0->swifter) (21.2.0)\n",
            "Requirement already satisfied: cffi>=1.0.1 in c:\\users\\yashn\\anaconda3\\lib\\site-packages (from argon2-cffi-bindings->argon2-cffi->notebook>=4.4.1->widgetsnbextension~=3.5.0->ipywidgets>=7.0.0->swifter) (1.15.1)\n",
            "Requirement already satisfied: soupsieve>1.2 in c:\\users\\yashn\\anaconda3\\lib\\site-packages (from beautifulsoup4->nbconvert>=5->notebook>=4.4.1->widgetsnbextension~=3.5.0->ipywidgets>=7.0.0->swifter) (2.3.1)\n",
            "Requirement already satisfied: pycparser in c:\\users\\yashn\\anaconda3\\lib\\site-packages (from cffi>=1.0.1->argon2-cffi-bindings->argon2-cffi->notebook>=4.4.1->widgetsnbextension~=3.5.0->ipywidgets>=7.0.0->swifter) (2.21)\n"
          ]
        },
        {
          "name": "stderr",
          "output_type": "stream",
          "text": [
            "[nltk_data] Downloading package punkt to\n",
            "[nltk_data]     C:\\Users\\yashn\\AppData\\Roaming\\nltk_data...\n",
            "[nltk_data]   Package punkt is already up-to-date!\n"
          ]
        },
        {
          "data": {
            "text/plain": [
              "True"
            ]
          },
          "execution_count": 1,
          "metadata": {},
          "output_type": "execute_result"
        }
      ],
      "source": [
        "import locale\n",
        "locale.setlocale(locale.LC_ALL, 'en_US.UTF-8')\n",
        "\n",
        "import pandas as pd\n",
        "import nltk\n",
        "!pip install textblob\n",
        "from textblob import TextBlob\n",
        "from nltk.corpus import stopwords\n",
        "!pip install spacy\n",
        "from spacy.lang.en import English\n",
        "import spacy\n",
        "!pip install swifter\n",
        "import swifter\n",
        "nltk.download('punkt')\n"
      ]
    },
    {
      "attachments": {},
      "cell_type": "markdown",
      "metadata": {},
      "source": [
        "## Import Data and initialize variables"
      ]
    },
    {
      "cell_type": "code",
      "execution_count": 2,
      "metadata": {
        "colab": {
          "base_uri": "https://localhost:8080/"
        },
        "id": "my0hZwOeQu3L",
        "outputId": "2bab461d-25ba-4938-ffeb-7aef93bfe079"
      },
      "outputs": [
        {
          "name": "stdout",
          "output_type": "stream",
          "text": [
            "Collecting en-core-web-sm==3.5.0\n",
            "  Downloading https://github.com/explosion/spacy-models/releases/download/en_core_web_sm-3.5.0/en_core_web_sm-3.5.0-py3-none-any.whl (12.8 MB)\n",
            "     --------------------------------------- 12.8/12.8 MB 36.4 MB/s eta 0:00:00\n",
            "Requirement already satisfied: spacy<3.6.0,>=3.5.0 in c:\\users\\yashn\\anaconda3\\lib\\site-packages (from en-core-web-sm==3.5.0) (3.5.1)\n",
            "Requirement already satisfied: pydantic!=1.8,!=1.8.1,<1.11.0,>=1.7.4 in c:\\users\\yashn\\anaconda3\\lib\\site-packages (from spacy<3.6.0,>=3.5.0->en-core-web-sm==3.5.0) (1.10.7)\n",
            "Requirement already satisfied: cymem<2.1.0,>=2.0.2 in c:\\users\\yashn\\anaconda3\\lib\\site-packages (from spacy<3.6.0,>=3.5.0->en-core-web-sm==3.5.0) (2.0.7)\n",
            "Requirement already satisfied: typer<0.8.0,>=0.3.0 in c:\\users\\yashn\\anaconda3\\lib\\site-packages (from spacy<3.6.0,>=3.5.0->en-core-web-sm==3.5.0) (0.7.0)\n",
            "Requirement already satisfied: packaging>=20.0 in c:\\users\\yashn\\anaconda3\\lib\\site-packages (from spacy<3.6.0,>=3.5.0->en-core-web-sm==3.5.0) (21.3)\n",
            "Requirement already satisfied: smart-open<7.0.0,>=5.2.1 in c:\\users\\yashn\\anaconda3\\lib\\site-packages (from spacy<3.6.0,>=3.5.0->en-core-web-sm==3.5.0) (5.2.1)\n",
            "Requirement already satisfied: jinja2 in c:\\users\\yashn\\anaconda3\\lib\\site-packages (from spacy<3.6.0,>=3.5.0->en-core-web-sm==3.5.0) (2.11.3)\n",
            "Requirement already satisfied: spacy-legacy<3.1.0,>=3.0.11 in c:\\users\\yashn\\anaconda3\\lib\\site-packages (from spacy<3.6.0,>=3.5.0->en-core-web-sm==3.5.0) (3.0.12)\n",
            "Requirement already satisfied: wasabi<1.2.0,>=0.9.1 in c:\\users\\yashn\\anaconda3\\lib\\site-packages (from spacy<3.6.0,>=3.5.0->en-core-web-sm==3.5.0) (1.1.1)\n",
            "Requirement already satisfied: numpy>=1.15.0 in c:\\users\\yashn\\anaconda3\\lib\\site-packages (from spacy<3.6.0,>=3.5.0->en-core-web-sm==3.5.0) (1.21.5)\n",
            "Requirement already satisfied: thinc<8.2.0,>=8.1.8 in c:\\users\\yashn\\anaconda3\\lib\\site-packages (from spacy<3.6.0,>=3.5.0->en-core-web-sm==3.5.0) (8.1.9)\n",
            "Requirement already satisfied: murmurhash<1.1.0,>=0.28.0 in c:\\users\\yashn\\anaconda3\\lib\\site-packages (from spacy<3.6.0,>=3.5.0->en-core-web-sm==3.5.0) (1.0.9)\n",
            "Requirement already satisfied: srsly<3.0.0,>=2.4.3 in c:\\users\\yashn\\anaconda3\\lib\\site-packages (from spacy<3.6.0,>=3.5.0->en-core-web-sm==3.5.0) (2.4.6)\n",
            "Requirement already satisfied: preshed<3.1.0,>=3.0.2 in c:\\users\\yashn\\anaconda3\\lib\\site-packages (from spacy<3.6.0,>=3.5.0->en-core-web-sm==3.5.0) (3.0.8)\n",
            "Requirement already satisfied: catalogue<2.1.0,>=2.0.6 in c:\\users\\yashn\\anaconda3\\lib\\site-packages (from spacy<3.6.0,>=3.5.0->en-core-web-sm==3.5.0) (2.0.8)\n",
            "Requirement already satisfied: setuptools in c:\\users\\yashn\\anaconda3\\lib\\site-packages (from spacy<3.6.0,>=3.5.0->en-core-web-sm==3.5.0) (63.4.1)\n",
            "Requirement already satisfied: requests<3.0.0,>=2.13.0 in c:\\users\\yashn\\anaconda3\\lib\\site-packages (from spacy<3.6.0,>=3.5.0->en-core-web-sm==3.5.0) (2.28.1)\n",
            "Requirement already satisfied: pathy>=0.10.0 in c:\\users\\yashn\\anaconda3\\lib\\site-packages (from spacy<3.6.0,>=3.5.0->en-core-web-sm==3.5.0) (0.10.1)\n",
            "Requirement already satisfied: langcodes<4.0.0,>=3.2.0 in c:\\users\\yashn\\anaconda3\\lib\\site-packages (from spacy<3.6.0,>=3.5.0->en-core-web-sm==3.5.0) (3.3.0)\n",
            "Requirement already satisfied: spacy-loggers<2.0.0,>=1.0.0 in c:\\users\\yashn\\anaconda3\\lib\\site-packages (from spacy<3.6.0,>=3.5.0->en-core-web-sm==3.5.0) (1.0.4)\n",
            "Requirement already satisfied: tqdm<5.0.0,>=4.38.0 in c:\\users\\yashn\\anaconda3\\lib\\site-packages (from spacy<3.6.0,>=3.5.0->en-core-web-sm==3.5.0) (4.64.1)\n",
            "Requirement already satisfied: pyparsing!=3.0.5,>=2.0.2 in c:\\users\\yashn\\anaconda3\\lib\\site-packages (from packaging>=20.0->spacy<3.6.0,>=3.5.0->en-core-web-sm==3.5.0) (3.0.9)\n",
            "Requirement already satisfied: typing-extensions>=4.2.0 in c:\\users\\yashn\\anaconda3\\lib\\site-packages (from pydantic!=1.8,!=1.8.1,<1.11.0,>=1.7.4->spacy<3.6.0,>=3.5.0->en-core-web-sm==3.5.0) (4.3.0)\n",
            "Requirement already satisfied: idna<4,>=2.5 in c:\\users\\yashn\\anaconda3\\lib\\site-packages (from requests<3.0.0,>=2.13.0->spacy<3.6.0,>=3.5.0->en-core-web-sm==3.5.0) (3.3)\n",
            "Requirement already satisfied: urllib3<1.27,>=1.21.1 in c:\\users\\yashn\\anaconda3\\lib\\site-packages (from requests<3.0.0,>=2.13.0->spacy<3.6.0,>=3.5.0->en-core-web-sm==3.5.0) (1.26.11)\n",
            "Requirement already satisfied: charset-normalizer<3,>=2 in c:\\users\\yashn\\anaconda3\\lib\\site-packages (from requests<3.0.0,>=2.13.0->spacy<3.6.0,>=3.5.0->en-core-web-sm==3.5.0) (2.0.4)\n",
            "Requirement already satisfied: certifi>=2017.4.17 in c:\\users\\yashn\\anaconda3\\lib\\site-packages (from requests<3.0.0,>=2.13.0->spacy<3.6.0,>=3.5.0->en-core-web-sm==3.5.0) (2022.9.14)\n",
            "Requirement already satisfied: blis<0.8.0,>=0.7.8 in c:\\users\\yashn\\anaconda3\\lib\\site-packages (from thinc<8.2.0,>=8.1.8->spacy<3.6.0,>=3.5.0->en-core-web-sm==3.5.0) (0.7.9)\n",
            "Requirement already satisfied: confection<1.0.0,>=0.0.1 in c:\\users\\yashn\\anaconda3\\lib\\site-packages (from thinc<8.2.0,>=8.1.8->spacy<3.6.0,>=3.5.0->en-core-web-sm==3.5.0) (0.0.4)\n",
            "Requirement already satisfied: colorama in c:\\users\\yashn\\anaconda3\\lib\\site-packages (from tqdm<5.0.0,>=4.38.0->spacy<3.6.0,>=3.5.0->en-core-web-sm==3.5.0) (0.4.6)\n",
            "Requirement already satisfied: click<9.0.0,>=7.1.1 in c:\\users\\yashn\\anaconda3\\lib\\site-packages (from typer<0.8.0,>=0.3.0->spacy<3.6.0,>=3.5.0->en-core-web-sm==3.5.0) (8.0.4)\n",
            "Requirement already satisfied: MarkupSafe>=0.23 in c:\\users\\yashn\\anaconda3\\lib\\site-packages (from jinja2->spacy<3.6.0,>=3.5.0->en-core-web-sm==3.5.0) (2.0.1)\n",
            "\u001b[38;5;2m✔ Download and installation successful\u001b[0m\n",
            "You can now load the package via spacy.load('en_core_web_sm')\n",
            "\n",
            "\u001b[2K\u001b[38;5;2m✔ Loaded compatibility table\u001b[0m\n",
            "\u001b[1m\n",
            "================= Installed pipeline packages (spaCy v3.5.1) =================\u001b[0m\n",
            "\u001b[38;5;4mℹ spaCy installation:\n",
            "c:\\Users\\yashn\\anaconda3\\lib\\site-packages\\spacy\u001b[0m\n",
            "\n",
            "NAME             SPACY            VERSION                            \n",
            "en_core_web_sm   >=3.5.0,<3.6.0   \u001b[38;5;2m3.5.0\u001b[0m   \u001b[38;5;2m✔\u001b[0m\n",
            "\n"
          ]
        },
        {
          "name": "stderr",
          "output_type": "stream",
          "text": [
            "[nltk_data] Downloading package stopwords to\n",
            "[nltk_data]     C:\\Users\\yashn\\AppData\\Roaming\\nltk_data...\n",
            "[nltk_data]   Package stopwords is already up-to-date!\n"
          ]
        }
      ],
      "source": [
        "!python -m spacy download en_core_web_sm\n",
        "!python -m spacy validate\n",
        "# Load the datasets\n",
        "listings = pd.read_csv('Tlistings.csv')\n",
        "reviews = pd.read_csv('Treviews.csv')\n",
        "\n",
        "# Data pre-processing\n",
        "nltk.download('stopwords')\n",
        "stop_words = stopwords.words('english')\n",
        "nlp = spacy.load('en_core_web_sm')\n",
        "parser = English()\n",
        "reviews.dropna(subset=['comments'], inplace=True)\n",
        "#choose the data size, the remaining variable name may need changes\n",
        "#reviews_2022_2023 = reviews[reviews['date'].str[:4].isin(['2022', '2023'])]\n",
        "reviews_2023 = reviews[reviews['date'].str[:4].isin(['2023'])]"
      ]
    },
    {
      "attachments": {},
      "cell_type": "markdown",
      "metadata": {},
      "source": [
        "## Test the listings data"
      ]
    },
    {
      "cell_type": "code",
      "execution_count": 3,
      "metadata": {},
      "outputs": [
        {
          "data": {
            "text/plain": [
              "0        f\n",
              "1        f\n",
              "2        f\n",
              "3        t\n",
              "4        f\n",
              "        ..\n",
              "17992    f\n",
              "17993    f\n",
              "17994    f\n",
              "17995    f\n",
              "17996    t\n",
              "Name: host_is_superhost, Length: 17997, dtype: object"
            ]
          },
          "execution_count": 3,
          "metadata": {},
          "output_type": "execute_result"
        }
      ],
      "source": [
        "# print the first 5 rows of the reviews dataset\n",
        "#reviews.head()\n",
        "# print the host_is_superhost column of the listings dataset\n",
        "listings['host_is_superhost']\n"
      ]
    },
    {
      "attachments": {},
      "cell_type": "markdown",
      "metadata": {},
      "source": [
        "## Print the shape of the listings data to see how many rows and columns there are"
      ]
    },
    {
      "cell_type": "code",
      "execution_count": 4,
      "metadata": {},
      "outputs": [
        {
          "name": "stdout",
          "output_type": "stream",
          "text": [
            "(431787, 6)\n"
          ]
        }
      ],
      "source": [
        "print(reviews.shape)"
      ]
    },
    {
      "attachments": {},
      "cell_type": "markdown",
      "metadata": {},
      "source": [
        "## "
      ]
    },
    {
      "attachments": {},
      "cell_type": "markdown",
      "metadata": {},
      "source": [
        "## Text Preprocessing: Tokenizing and Cleaning Text Data using spaCy in Reviews DataFrame"
      ]
    },
    {
      "cell_type": "code",
      "execution_count": 5,
      "metadata": {
        "id": "z0z4BnwjaIFo"
      },
      "outputs": [
        {
          "data": {
            "application/vnd.jupyter.widget-view+json": {
              "model_id": "0f7ffd5b6c304161b8c6ae6d13c61f65",
              "version_major": 2,
              "version_minor": 0
            },
            "text/plain": [
              "Pandas Apply:   0%|          | 0/431787 [00:00<?, ?it/s]"
            ]
          },
          "metadata": {},
          "output_type": "display_data"
        }
      ],
      "source": [
        "def tokenize_text(text):\n",
        "    text = text.replace('<br/>', ' ')\n",
        "    doc = nlp(text)\n",
        "    return [token.lemma_.lower().strip() for token in doc if not token.is_stop and not token.is_punct]\n",
        "\n",
        "reviews.loc[:, 'clean_text'] = reviews['comments'].swifter.progress_bar(True).apply(tokenize_text)\n"
      ]
    },
    {
      "cell_type": "code",
      "execution_count": 6,
      "metadata": {},
      "outputs": [
        {
          "data": {
            "text/html": [
              "<div>\n",
              "<style scoped>\n",
              "    .dataframe tbody tr th:only-of-type {\n",
              "        vertical-align: middle;\n",
              "    }\n",
              "\n",
              "    .dataframe tbody tr th {\n",
              "        vertical-align: top;\n",
              "    }\n",
              "\n",
              "    .dataframe thead th {\n",
              "        text-align: right;\n",
              "    }\n",
              "</style>\n",
              "<table border=\"1\" class=\"dataframe\">\n",
              "  <thead>\n",
              "    <tr style=\"text-align: right;\">\n",
              "      <th></th>\n",
              "      <th>listing_id</th>\n",
              "      <th>id</th>\n",
              "      <th>date</th>\n",
              "      <th>reviewer_id</th>\n",
              "      <th>reviewer_name</th>\n",
              "      <th>comments</th>\n",
              "      <th>clean_text</th>\n",
              "    </tr>\n",
              "  </thead>\n",
              "  <tbody>\n",
              "    <tr>\n",
              "      <th>0</th>\n",
              "      <td>1419</td>\n",
              "      <td>38924112</td>\n",
              "      <td>2015-07-19</td>\n",
              "      <td>11308465</td>\n",
              "      <td>Marcela</td>\n",
              "      <td>Having the opportunity of arriving to Alexandr...</td>\n",
              "      <td>[have, opportunity, arrive, alexandra, house, ...</td>\n",
              "    </tr>\n",
              "    <tr>\n",
              "      <th>1</th>\n",
              "      <td>1419</td>\n",
              "      <td>44791978</td>\n",
              "      <td>2015-08-29</td>\n",
              "      <td>9580285</td>\n",
              "      <td>Marco</td>\n",
              "      <td>We have no enough words to describe how beauty...</td>\n",
              "      <td>[word, describe, beautyful, cozy, alexandra, h...</td>\n",
              "    </tr>\n",
              "    <tr>\n",
              "      <th>2</th>\n",
              "      <td>1419</td>\n",
              "      <td>45957133</td>\n",
              "      <td>2015-09-07</td>\n",
              "      <td>38394721</td>\n",
              "      <td>Andrea</td>\n",
              "      <td>The listing was exceptional and an even better...</td>\n",
              "      <td>[listing, exceptional, well, experience, perso...</td>\n",
              "    </tr>\n",
              "    <tr>\n",
              "      <th>3</th>\n",
              "      <td>1419</td>\n",
              "      <td>67295154</td>\n",
              "      <td>2016-03-28</td>\n",
              "      <td>3515044</td>\n",
              "      <td>Shaun</td>\n",
              "      <td>Alexandra's home was amazing and in such a nea...</td>\n",
              "      <td>[alexandra, home, amazing, neat, neighbourhood...</td>\n",
              "    </tr>\n",
              "    <tr>\n",
              "      <th>4</th>\n",
              "      <td>1419</td>\n",
              "      <td>177702208</td>\n",
              "      <td>2017-08-03</td>\n",
              "      <td>13987100</td>\n",
              "      <td>Kate</td>\n",
              "      <td>Beautiful home. Very comfortable and clean. Pe...</td>\n",
              "      <td>[beautiful, home, comfortable, clean, perfect,...</td>\n",
              "    </tr>\n",
              "  </tbody>\n",
              "</table>\n",
              "</div>"
            ],
            "text/plain": [
              "   listing_id         id        date  reviewer_id reviewer_name  \\\n",
              "0        1419   38924112  2015-07-19     11308465       Marcela   \n",
              "1        1419   44791978  2015-08-29      9580285         Marco   \n",
              "2        1419   45957133  2015-09-07     38394721        Andrea   \n",
              "3        1419   67295154  2016-03-28      3515044         Shaun   \n",
              "4        1419  177702208  2017-08-03     13987100          Kate   \n",
              "\n",
              "                                            comments  \\\n",
              "0  Having the opportunity of arriving to Alexandr...   \n",
              "1  We have no enough words to describe how beauty...   \n",
              "2  The listing was exceptional and an even better...   \n",
              "3  Alexandra's home was amazing and in such a nea...   \n",
              "4  Beautiful home. Very comfortable and clean. Pe...   \n",
              "\n",
              "                                          clean_text  \n",
              "0  [have, opportunity, arrive, alexandra, house, ...  \n",
              "1  [word, describe, beautyful, cozy, alexandra, h...  \n",
              "2  [listing, exceptional, well, experience, perso...  \n",
              "3  [alexandra, home, amazing, neat, neighbourhood...  \n",
              "4  [beautiful, home, comfortable, clean, perfect,...  "
            ]
          },
          "execution_count": 6,
          "metadata": {},
          "output_type": "execute_result"
        }
      ],
      "source": [
        "# check head of the reviews dataset\n",
        "reviews.head()\n"
      ]
    },
    {
      "attachments": {},
      "cell_type": "markdown",
      "metadata": {},
      "source": [
        "## Aspect-Based Sentiment Analysis on Reviews Using TextBlob"
      ]
    },
    {
      "cell_type": "code",
      "execution_count": 78,
      "metadata": {
        "colab": {
          "base_uri": "https://localhost:8080/"
        },
        "id": "04T1Y-6bm-FM",
        "outputId": "f8f2281c-8af4-4b75-a4e3-6389822ef2c9"
      },
      "outputs": [],
      "source": [
        "# Aspect extraction\n",
        "aspects = ['clean', 'location', 'value', 'communication', 'accurate']\n",
        "\n",
        "def extract_aspect_sentiment(text, aspect):\n",
        "    aspect_sentiment = []\n",
        "    text = ' '.join(text) # convert list to string\n",
        "    \n",
        "    for sentence in TextBlob(text).sentences:\n",
        "        if aspect in sentence:\n",
        "            sentiment = sentence.sentiment.polarity\n",
        "            aspect_sentiment.append(sentiment)\n",
        "    return aspect_sentiment\n",
        "\n",
        "\n",
        "for aspect in aspects:\n",
        "    reviews[f'{aspect}_sentiment'] = reviews['clean_text'].apply(lambda x: extract_aspect_sentiment(x, aspect))\n"
      ]
    },
    {
      "cell_type": "code",
      "execution_count": 84,
      "metadata": {},
      "outputs": [
        {
          "name": "stdout",
          "output_type": "stream",
          "text": [
            "f    13483\n",
            "t     4513\n",
            "Name: host_is_superhost, dtype: int64\n"
          ]
        }
      ],
      "source": [
        "# Print the number of reviews for each aspect\n",
        "print(listings['host_is_superhost'].value_counts())\n"
      ]
    },
    {
      "cell_type": "code",
      "execution_count": 80,
      "metadata": {},
      "outputs": [
        {
          "name": "stdout",
          "output_type": "stream",
          "text": [
            "Unique listing_ids in reviews: 13002\n",
            "Unique ids in listings: 17997\n"
          ]
        }
      ],
      "source": [
        "print(\"Unique listing_ids in reviews:\", reviews['listing_id'].nunique())\n",
        "print(\"Unique ids in listings:\", listings['id'].nunique())\n"
      ]
    },
    {
      "cell_type": "code",
      "execution_count": 63,
      "metadata": {},
      "outputs": [
        {
          "data": {
            "text/html": [
              "<div>\n",
              "<style scoped>\n",
              "    .dataframe tbody tr th:only-of-type {\n",
              "        vertical-align: middle;\n",
              "    }\n",
              "\n",
              "    .dataframe tbody tr th {\n",
              "        vertical-align: top;\n",
              "    }\n",
              "\n",
              "    .dataframe thead th {\n",
              "        text-align: right;\n",
              "    }\n",
              "</style>\n",
              "<table border=\"1\" class=\"dataframe\">\n",
              "  <thead>\n",
              "    <tr style=\"text-align: right;\">\n",
              "      <th></th>\n",
              "      <th>listing_id</th>\n",
              "      <th>id</th>\n",
              "      <th>date</th>\n",
              "      <th>reviewer_id</th>\n",
              "      <th>reviewer_name</th>\n",
              "      <th>comments</th>\n",
              "      <th>clean_text</th>\n",
              "      <th>cleanliness_sentiment</th>\n",
              "      <th>location_sentiment</th>\n",
              "      <th>value_sentiment</th>\n",
              "      <th>communication_sentiment</th>\n",
              "    </tr>\n",
              "  </thead>\n",
              "  <tbody>\n",
              "    <tr>\n",
              "      <th>0</th>\n",
              "      <td>1419</td>\n",
              "      <td>38924112</td>\n",
              "      <td>2015-07-19</td>\n",
              "      <td>11308465</td>\n",
              "      <td>Marcela</td>\n",
              "      <td>Having the opportunity of arriving to Alexandr...</td>\n",
              "      <td>[have, opportunity, arrive, alexandra, house, ...</td>\n",
              "      <td>[]</td>\n",
              "      <td>[]</td>\n",
              "      <td>[]</td>\n",
              "      <td>[]</td>\n",
              "    </tr>\n",
              "    <tr>\n",
              "      <th>1</th>\n",
              "      <td>1419</td>\n",
              "      <td>44791978</td>\n",
              "      <td>2015-08-29</td>\n",
              "      <td>9580285</td>\n",
              "      <td>Marco</td>\n",
              "      <td>We have no enough words to describe how beauty...</td>\n",
              "      <td>[word, describe, beautyful, cozy, alexandra, h...</td>\n",
              "      <td>[]</td>\n",
              "      <td>[]</td>\n",
              "      <td>[]</td>\n",
              "      <td>[]</td>\n",
              "    </tr>\n",
              "    <tr>\n",
              "      <th>2</th>\n",
              "      <td>1419</td>\n",
              "      <td>45957133</td>\n",
              "      <td>2015-09-07</td>\n",
              "      <td>38394721</td>\n",
              "      <td>Andrea</td>\n",
              "      <td>The listing was exceptional and an even better...</td>\n",
              "      <td>[listing, exceptional, well, experience, perso...</td>\n",
              "      <td>[]</td>\n",
              "      <td>[]</td>\n",
              "      <td>[]</td>\n",
              "      <td>[]</td>\n",
              "    </tr>\n",
              "    <tr>\n",
              "      <th>3</th>\n",
              "      <td>1419</td>\n",
              "      <td>67295154</td>\n",
              "      <td>2016-03-28</td>\n",
              "      <td>3515044</td>\n",
              "      <td>Shaun</td>\n",
              "      <td>Alexandra's home was amazing and in such a nea...</td>\n",
              "      <td>[alexandra, home, amazing, neat, neighbourhood...</td>\n",
              "      <td>[]</td>\n",
              "      <td>[]</td>\n",
              "      <td>[]</td>\n",
              "      <td>[]</td>\n",
              "    </tr>\n",
              "    <tr>\n",
              "      <th>4</th>\n",
              "      <td>1419</td>\n",
              "      <td>177702208</td>\n",
              "      <td>2017-08-03</td>\n",
              "      <td>13987100</td>\n",
              "      <td>Kate</td>\n",
              "      <td>Beautiful home. Very comfortable and clean. Pe...</td>\n",
              "      <td>[beautiful, home, comfortable, clean, perfect,...</td>\n",
              "      <td>[]</td>\n",
              "      <td>[]</td>\n",
              "      <td>[]</td>\n",
              "      <td>[]</td>\n",
              "    </tr>\n",
              "    <tr>\n",
              "      <th>...</th>\n",
              "      <td>...</td>\n",
              "      <td>...</td>\n",
              "      <td>...</td>\n",
              "      <td>...</td>\n",
              "      <td>...</td>\n",
              "      <td>...</td>\n",
              "      <td>...</td>\n",
              "      <td>...</td>\n",
              "      <td>...</td>\n",
              "      <td>...</td>\n",
              "      <td>...</td>\n",
              "    </tr>\n",
              "    <tr>\n",
              "      <th>431835</th>\n",
              "      <td>836257685033296212</td>\n",
              "      <td>839846359032272671</td>\n",
              "      <td>2023-03-04</td>\n",
              "      <td>451304649</td>\n",
              "      <td>Windy</td>\n",
              "      <td>Great location, great condo, great host</td>\n",
              "      <td>[great, location, great, condo, great, host]</td>\n",
              "      <td>[]</td>\n",
              "      <td>[0.8000000000000002]</td>\n",
              "      <td>[]</td>\n",
              "      <td>[]</td>\n",
              "    </tr>\n",
              "    <tr>\n",
              "      <th>431836</th>\n",
              "      <td>836294262707555222</td>\n",
              "      <td>837689490696375542</td>\n",
              "      <td>2023-03-01</td>\n",
              "      <td>76227218</td>\n",
              "      <td>Shanice</td>\n",
              "      <td>I had an amazing stay at Dziyana’s. It was so ...</td>\n",
              "      <td>[amazing, stay, dziyana, clean, spacious, cent...</td>\n",
              "      <td>[]</td>\n",
              "      <td>[]</td>\n",
              "      <td>[]</td>\n",
              "      <td>[0.22111111111111115]</td>\n",
              "    </tr>\n",
              "    <tr>\n",
              "      <th>431837</th>\n",
              "      <td>836294262707555222</td>\n",
              "      <td>838414480217302205</td>\n",
              "      <td>2023-03-02</td>\n",
              "      <td>64795429</td>\n",
              "      <td>Sera</td>\n",
              "      <td>This apartment is located at a prime location ...</td>\n",
              "      <td>[apartment, locate, prime, location, stunning,...</td>\n",
              "      <td>[]</td>\n",
              "      <td>[0.22]</td>\n",
              "      <td>[]</td>\n",
              "      <td>[0.22]</td>\n",
              "    </tr>\n",
              "    <tr>\n",
              "      <th>431838</th>\n",
              "      <td>836294262707555222</td>\n",
              "      <td>839207427365377209</td>\n",
              "      <td>2023-03-03</td>\n",
              "      <td>503355138</td>\n",
              "      <td>Hicham</td>\n",
              "      <td>Very beautiful place and nice location, guest ...</td>\n",
              "      <td>[beautiful, place, nice, location, guest, resp...</td>\n",
              "      <td>[]</td>\n",
              "      <td>[0.725]</td>\n",
              "      <td>[]</td>\n",
              "      <td>[]</td>\n",
              "    </tr>\n",
              "    <tr>\n",
              "      <th>431839</th>\n",
              "      <td>836436031343621810</td>\n",
              "      <td>843505735800917061</td>\n",
              "      <td>2023-03-09</td>\n",
              "      <td>496452355</td>\n",
              "      <td>Lyazzat</td>\n",
              "      <td>Very clean room and washroom, free of foreign ...</td>\n",
              "      <td>[clean, room, washroom, free, foreign, bad, sm...</td>\n",
              "      <td>[]</td>\n",
              "      <td>[0.28437500000000004]</td>\n",
              "      <td>[]</td>\n",
              "      <td>[]</td>\n",
              "    </tr>\n",
              "  </tbody>\n",
              "</table>\n",
              "<p>431787 rows × 11 columns</p>\n",
              "</div>"
            ],
            "text/plain": [
              "                listing_id                  id        date  reviewer_id  \\\n",
              "0                     1419            38924112  2015-07-19     11308465   \n",
              "1                     1419            44791978  2015-08-29      9580285   \n",
              "2                     1419            45957133  2015-09-07     38394721   \n",
              "3                     1419            67295154  2016-03-28      3515044   \n",
              "4                     1419           177702208  2017-08-03     13987100   \n",
              "...                    ...                 ...         ...          ...   \n",
              "431835  836257685033296212  839846359032272671  2023-03-04    451304649   \n",
              "431836  836294262707555222  837689490696375542  2023-03-01     76227218   \n",
              "431837  836294262707555222  838414480217302205  2023-03-02     64795429   \n",
              "431838  836294262707555222  839207427365377209  2023-03-03    503355138   \n",
              "431839  836436031343621810  843505735800917061  2023-03-09    496452355   \n",
              "\n",
              "       reviewer_name                                           comments  \\\n",
              "0            Marcela  Having the opportunity of arriving to Alexandr...   \n",
              "1              Marco  We have no enough words to describe how beauty...   \n",
              "2             Andrea  The listing was exceptional and an even better...   \n",
              "3              Shaun  Alexandra's home was amazing and in such a nea...   \n",
              "4               Kate  Beautiful home. Very comfortable and clean. Pe...   \n",
              "...              ...                                                ...   \n",
              "431835         Windy            Great location, great condo, great host   \n",
              "431836       Shanice  I had an amazing stay at Dziyana’s. It was so ...   \n",
              "431837          Sera  This apartment is located at a prime location ...   \n",
              "431838        Hicham  Very beautiful place and nice location, guest ...   \n",
              "431839       Lyazzat  Very clean room and washroom, free of foreign ...   \n",
              "\n",
              "                                               clean_text  \\\n",
              "0       [have, opportunity, arrive, alexandra, house, ...   \n",
              "1       [word, describe, beautyful, cozy, alexandra, h...   \n",
              "2       [listing, exceptional, well, experience, perso...   \n",
              "3       [alexandra, home, amazing, neat, neighbourhood...   \n",
              "4       [beautiful, home, comfortable, clean, perfect,...   \n",
              "...                                                   ...   \n",
              "431835       [great, location, great, condo, great, host]   \n",
              "431836  [amazing, stay, dziyana, clean, spacious, cent...   \n",
              "431837  [apartment, locate, prime, location, stunning,...   \n",
              "431838  [beautiful, place, nice, location, guest, resp...   \n",
              "431839  [clean, room, washroom, free, foreign, bad, sm...   \n",
              "\n",
              "       cleanliness_sentiment     location_sentiment value_sentiment  \\\n",
              "0                         []                     []              []   \n",
              "1                         []                     []              []   \n",
              "2                         []                     []              []   \n",
              "3                         []                     []              []   \n",
              "4                         []                     []              []   \n",
              "...                      ...                    ...             ...   \n",
              "431835                    []   [0.8000000000000002]              []   \n",
              "431836                    []                     []              []   \n",
              "431837                    []                 [0.22]              []   \n",
              "431838                    []                [0.725]              []   \n",
              "431839                    []  [0.28437500000000004]              []   \n",
              "\n",
              "       communication_sentiment  \n",
              "0                           []  \n",
              "1                           []  \n",
              "2                           []  \n",
              "3                           []  \n",
              "4                           []  \n",
              "...                        ...  \n",
              "431835                      []  \n",
              "431836   [0.22111111111111115]  \n",
              "431837                  [0.22]  \n",
              "431838                      []  \n",
              "431839                      []  \n",
              "\n",
              "[431787 rows x 11 columns]"
            ]
          },
          "execution_count": 63,
          "metadata": {},
          "output_type": "execute_result"
        }
      ],
      "source": [
        "reviews"
      ]
    },
    {
      "cell_type": "code",
      "execution_count": 81,
      "metadata": {},
      "outputs": [
        {
          "name": "stdout",
          "output_type": "stream",
          "text": [
            "f    13483\n",
            "t     4513\n",
            "Name: host_is_superhost, dtype: int64\n"
          ]
        }
      ],
      "source": [
        "# get the amount of true and false values in the host_is_superhost column\n",
        "print(listings['host_is_superhost'].value_counts())\n"
      ]
    },
    {
      "attachments": {},
      "cell_type": "markdown",
      "metadata": {},
      "source": [
        "## Comparison of Average Sentiments for Different Aspects among Superhosts and Non-Superhosts Based on Reviews"
      ]
    },
    {
      "cell_type": "code",
      "execution_count": 82,
      "metadata": {
        "colab": {
          "base_uri": "https://localhost:8080/"
        },
        "id": "7Mi-jmg2pKx8",
        "outputId": "a43268f7-cf08-48c0-dd53-0149cdfd0d87"
      },
      "outputs": [
        {
          "name": "stdout",
          "output_type": "stream",
          "text": [
            "                                   cleanliness    location     value    communication    accurate\n",
            "-------------------------------  -------------  ----------  --------  ---------------  ----------\n",
            "Superhost Mean Sentiments             0.397055    0.484549  0.400046         0.564966    0.302678\n",
            "Superhost Median Sentiments           0.400134    0.477951  0.400046         0.564848    0.302678\n",
            "Non-Superhost Mean Sentiments         0.397469    0.456494  0.444208         0.388753    0.356917\n",
            "Non-Superhost Median Sentiments       0.406907    0.455556  0.413333         0.412054    0.355\n"
          ]
        }
      ],
      "source": [
        "superhost_sentiments = []\n",
        "non_superhost_sentiments = []\n",
        "\n",
        "for group_name, group_df in reviews.groupby('listing_id'):\n",
        "    # Get the superhost status for the current group, they are true or false values\n",
        "    is_superhost = listings[listings['id'] == group_name]['host_is_superhost'].values[0]\n",
        "\n",
        "\n",
        "    \n",
        "    # Get the sentiment scores for the current group\n",
        "    sentiment_scores = {}\n",
        "    for aspect in aspects:\n",
        "        aspect_sentiment = group_df[f'{aspect}_sentiment'].explode().tolist()\n",
        "        sentiment_scores[aspect] = aspect_sentiment\n",
        "    \n",
        "    # Calculate the average sentiment score for each aspect\n",
        "    aspect_avg_sentiments = {}\n",
        "    for aspect, sentiment_list in sentiment_scores.items():\n",
        "        if len(sentiment_list) > 0:\n",
        "            aspect_avg_sentiments[aspect] = sum(sentiment_list) / len(sentiment_list)\n",
        "        else:\n",
        "            aspect_avg_sentiments[aspect] = None\n",
        "    \n",
        "    # Append the average sentiment scores to the appropriate list based on whether the host is a superhost\n",
        "    if is_superhost == 't':\n",
        "        superhost_sentiments.append(aspect_avg_sentiments)\n",
        "    else:\n",
        "        non_superhost_sentiments.append(aspect_avg_sentiments)\n",
        "\n",
        "# Convert the lists to DataFrames\n",
        "superhost_sentiments_df = pd.DataFrame(superhost_sentiments)\n",
        "non_superhost_sentiments_df = pd.DataFrame(non_superhost_sentiments)\n",
        "\n",
        "from tabulate import tabulate\n",
        "\n",
        "# Print the mean and median sentiments for superhosts and non-superhosts as a table\n",
        "print(tabulate([    ['Superhost Mean Sentiments', *superhost_sentiments_df.mean()],\n",
        "    ['Superhost Median Sentiments', *superhost_sentiments_df.median()],\n",
        "    ['Non-Superhost Mean Sentiments', *non_superhost_sentiments_df.mean()],\n",
        "    ['Non-Superhost Median Sentiments', *non_superhost_sentiments_df.median()]\n",
        "], headers=['', 'cleanliness', 'location', 'value', 'communication', 'accurate']))\n",
        "\n"
      ]
    },
    {
      "attachments": {},
      "cell_type": "markdown",
      "metadata": {
        "id": "yMIXcxcBuxdw"
      },
      "source": [
        "Cleanliness: Refers to the overall cleanliness of the rental unit, including the tidiness and cleanliness of the living spaces and amenities, such as bathrooms, kitchens, and common areas.\n",
        "\n",
        "Location: Refers to the location of the rental unit in terms of accessibility to nearby attractions, public transportation, and other amenities, as well as the overall safety and convenience of the neighborhood.\n",
        "\n",
        "Value: Refers to the perceived value of the rental unit in relation to its price. This aspect considers factors such as the size, amenities, and quality of the rental unit and how they compare to the price being charged.\n",
        "\n",
        "Communication: Refers to the host's communication with the guest before and during their stay. This aspect considers the clarity and responsiveness of the host's messages, as well as their helpfulness in addressing any issues or concerns that may arise during the guest's stay.\n",
        "\n",
        "Comfort: Refers to the overall comfort of the rental unit, including the quality of the furniture, bedding, and other amenities.\n",
        "\n",
        "Accuracy: Refers to the accuracy of the listing description and photos. This aspect considers the accuracy of the listing description and photos, as well as the accuracy of the host's responses to questions about the listing."
      ]
    },
    {
      "attachments": {},
      "cell_type": "markdown",
      "metadata": {},
      "source": [
        "## Two-Sample t-Test Results for Sentiment Scores of Different Aspects between Superhosts and Non-Superhosts"
      ]
    },
    {
      "cell_type": "code",
      "execution_count": 83,
      "metadata": {},
      "outputs": [
        {
          "name": "stdout",
          "output_type": "stream",
          "text": [
            "\n",
            "Clean non-null scores:\n",
            "Superhosts: 100\n",
            "Non-superhosts: 476\n",
            "\n",
            "Clean t-test results:\n",
            "T-statistic: -0.03\n",
            "p-value: 0.9775\n",
            "There is no statistically significant difference in clean sentiment between superhosts and non-superhosts (p >= 0.05).\n",
            "\n",
            "Location non-null scores:\n",
            "Superhosts: 106\n",
            "Non-superhosts: 595\n",
            "\n",
            "Location t-test results:\n",
            "T-statistic: 1.54\n",
            "p-value: 0.1257\n",
            "There is no statistically significant difference in location sentiment between superhosts and non-superhosts (p >= 0.05).\n",
            "\n",
            "Value non-null scores:\n",
            "Superhosts: 2\n",
            "Non-superhosts: 26\n",
            "\n",
            "Value t-test results:\n",
            "T-statistic: -0.96\n",
            "p-value: 0.3603\n",
            "There is no statistically significant difference in value sentiment between superhosts and non-superhosts (p >= 0.05).\n",
            "\n",
            "Communication non-null scores:\n",
            "Superhosts: 12\n",
            "Non-superhosts: 72\n",
            "\n",
            "Communication t-test results:\n",
            "T-statistic: 2.85\n",
            "p-value: 0.0112\n",
            "There is a statistically significant difference in communication sentiment between superhosts and non-superhosts (p < 0.05 and t > 0).\n",
            "\n",
            "Accurate non-null scores:\n",
            "Superhosts: 2\n",
            "Non-superhosts: 15\n",
            "\n",
            "Accurate t-test results:\n",
            "T-statistic: -0.58\n",
            "p-value: 0.6057\n",
            "There is no statistically significant difference in accurate sentiment between superhosts and non-superhosts (p >= 0.05).\n"
          ]
        }
      ],
      "source": [
        "# Perform two-sample t-test on each aspect between superhosts and non-superhosts\n",
        "for aspect in aspects:\n",
        "    superhost_scores = superhost_sentiments_df[aspect].dropna()\n",
        "    non_superhost_scores = non_superhost_sentiments_df[aspect].dropna()\n",
        "    \n",
        "    # Print number of non-null values in each group for current aspect\n",
        "    print(f'\\n{aspect.capitalize()} non-null scores:')\n",
        "    print(f'Superhosts: {len(superhost_scores)}')\n",
        "    print(f'Non-superhosts: {len(non_superhost_scores)}')\n",
        "    \n",
        "    t_stat, p_val = ttest_ind(superhost_scores, non_superhost_scores, equal_var=False)\n",
        "    \n",
        "    # Print results\n",
        "    print(f'\\n{aspect.capitalize()} t-test results:')\n",
        "    print(f'T-statistic: {t_stat:.2f}')\n",
        "    print(f'p-value: {p_val:.4f}')\n",
        "    \n",
        "    # Interpret results\n",
        "    alpha = 0.05\n",
        "    \n",
        "    if p_val < alpha:\n",
        "        if t_stat > 0:\n",
        "            print(f'There is a statistically significant difference in {aspect} sentiment between superhosts and non-superhosts (p < {alpha} and t > 0).')\n",
        "        else:\n",
        "            print(f'There is a statistically significant difference in {aspect} sentiment between superhosts and non-superhosts (p < {alpha} and t < 0).')\n",
        "    else:\n",
        "        print(f'There is no statistically significant difference in {aspect} sentiment between superhosts and non-superhosts (p >= {alpha}).')\n"
      ]
    },
    {
      "attachments": {},
      "cell_type": "markdown",
      "metadata": {},
      "source": [
        "## Wilcoxon Rank-Sum Test Results for Sentiment Scores of Different Aspects between Superhosts and Non-Superhosts"
      ]
    },
    {
      "cell_type": "code",
      "execution_count": 75,
      "metadata": {},
      "outputs": [
        {
          "name": "stdout",
          "output_type": "stream",
          "text": [
            "\n",
            "Clean non-null scores:\n",
            "Superhosts: 100\n",
            "Non-superhosts: 476\n",
            "\n",
            "Clean Wilcoxon rank-sum test results:\n",
            "Z-statistic: -0.50\n",
            "p-value: 0.6177\n",
            "There is no statistically significant difference in clean sentiment between superhosts and non-superhosts (p >= 0.05).\n",
            "\n",
            "Location non-null scores:\n",
            "Superhosts: 106\n",
            "Non-superhosts: 595\n",
            "\n",
            "Location Wilcoxon rank-sum test results:\n",
            "Z-statistic: 1.40\n",
            "p-value: 0.1613\n",
            "There is no statistically significant difference in location sentiment between superhosts and non-superhosts (p >= 0.05).\n",
            "\n",
            "Value non-null scores:\n",
            "Superhosts: 2\n",
            "Non-superhosts: 26\n",
            "\n",
            "Value Wilcoxon rank-sum test results:\n",
            "Z-statistic: -0.27\n",
            "p-value: 0.7890\n",
            "There is no statistically significant difference in value sentiment between superhosts and non-superhosts (p >= 0.05).\n",
            "\n",
            "Communication non-null scores:\n",
            "Superhosts: 12\n",
            "Non-superhosts: 72\n",
            "\n",
            "Communication Wilcoxon rank-sum test results:\n",
            "Z-statistic: 2.70\n",
            "p-value: 0.0070\n",
            "There is a statistically significant difference in communication sentiment between superhosts and non-superhosts (p < 0.05 and z > 0).\n",
            "\n",
            "Comfort non-null scores:\n",
            "Superhosts: 35\n",
            "Non-superhosts: 213\n",
            "\n",
            "Comfort Wilcoxon rank-sum test results:\n",
            "Z-statistic: 1.67\n",
            "p-value: 0.0958\n",
            "There is no statistically significant difference in comfort sentiment between superhosts and non-superhosts (p >= 0.05).\n",
            "\n",
            "Accurate non-null scores:\n",
            "Superhosts: 2\n",
            "Non-superhosts: 15\n",
            "\n",
            "Accurate Wilcoxon rank-sum test results:\n",
            "Z-statistic: -0.75\n",
            "p-value: 0.4561\n",
            "There is no statistically significant difference in accurate sentiment between superhosts and non-superhosts (p >= 0.05).\n"
          ]
        }
      ],
      "source": [
        "from scipy.stats import ranksums\n",
        "\n",
        "# Perform Wilcoxon rank-sum test on each aspect between superhosts and non-superhosts\n",
        "for aspect in aspects:\n",
        "    superhost_scores = superhost_sentiments_df[aspect].dropna()\n",
        "    non_superhost_scores = non_superhost_sentiments_df[aspect].dropna()\n",
        "    \n",
        "    # Print number of non-null values in each group for current aspect\n",
        "    print(f'\\n{aspect.capitalize()} non-null scores:')\n",
        "    print(f'Superhosts: {len(superhost_scores)}')\n",
        "    print(f'Non-superhosts: {len(non_superhost_scores)}')\n",
        "    \n",
        "    stat, p_val = ranksums(superhost_scores, non_superhost_scores)\n",
        "    \n",
        "    # Print results\n",
        "    print(f'\\n{aspect.capitalize()} Wilcoxon rank-sum test results:')\n",
        "    print(f'Z-statistic: {stat:.2f}')\n",
        "    print(f'p-value: {p_val:.4f}')\n",
        "    \n",
        "    # Interpret results\n",
        "    alpha = 0.05\n",
        "    \n",
        "    if p_val < alpha:\n",
        "        if stat > 0:\n",
        "            print(f'There is a statistically significant difference in {aspect} sentiment between superhosts and non-superhosts (p < {alpha} and z > 0).')\n",
        "        else:\n",
        "            print(f'There is a statistically significant difference in {aspect} sentiment between superhosts and non-superhosts (p < {alpha} and z < 0).')\n",
        "    else:\n",
        "        print(f'There is no statistically significant difference in {aspect} sentiment between superhosts and non-superhosts (p >= {alpha}).')\n"
      ]
    }
  ],
  "metadata": {
    "colab": {
      "gpuType": "T4",
      "provenance": []
    },
    "gpuClass": "standard",
    "kernelspec": {
      "display_name": "Python 3",
      "name": "python3"
    },
    "language_info": {
      "codemirror_mode": {
        "name": "ipython",
        "version": 3
      },
      "file_extension": ".py",
      "mimetype": "text/x-python",
      "name": "python",
      "nbconvert_exporter": "python",
      "pygments_lexer": "ipython3",
      "version": "3.9.13"
    }
  },
  "nbformat": 4,
  "nbformat_minor": 0
}
